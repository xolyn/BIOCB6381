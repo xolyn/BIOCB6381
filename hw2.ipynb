{
 "cells": [
  {
   "cell_type": "markdown",
   "id": "108fbe5f",
   "metadata": {},
   "source": [
    "<h1 style=\"text-align:center; font-size:24\">\n",
    "BIOCB 4381/6381 Assignment 2<br>\n",
    "</h1>"
   ]
  },
  {
   "cell_type": "markdown",
   "id": "c9855623",
   "metadata": {},
   "source": [
    "<div style=\"background-color: #e6e6e6; border-color: #999999; border-left: 5px solid #999999; padding: 1.5em; color: #666666\">\n",
    "    \n",
    "**INSTRUCTIONS:** Please answer problems in this notebook in the corresponding sections. You are free to add new cells based on your need.\n",
    "\n",
    "**MODULE IMPORT:** In the first trunk below, I wrote import statements for all packages you may need to use in this assignment. If there's any package not installed in your environment, please first check and install them. You are NOT allowed to rely on any other packages/modules that are not included here.\n",
    "\n",
    "**NOTE:** \n",
    "* PLOTS: please label the figures your generated properly (axis labels, title, etc.)\n",
    "* After you have completed your assignment, please test it by clicking **KERNEL** and selecting **RESTART & RUN ALL** from the drop-down menu to make sure it can run smoothly from the beginning to the end. I will only modify the file paths to my own on when grading\n",
    "<div/>"
   ]
  },
  {
   "cell_type": "markdown",
   "id": "4b9c81d4",
   "metadata": {},
   "source": [
    "This is a Markdown cell. Please double-click to edit this cell. When you finish, use `shift+enter` (Windows) or `shift+return` (Mac) key\n",
    "\n",
    "**Please acknowledge your collaborator(s) in here:**\n",
    "\n"
   ]
  },
  {
   "cell_type": "code",
   "execution_count": 231,
   "id": "17ebb41c",
   "metadata": {},
   "outputs": [],
   "source": [
    "import pandas as pd\n",
    "import matplotlib.pyplot as plt\n",
    "import seaborn as sns\n",
    "from statistics import mean  # python built-in module (no need to install)\n",
    "from Bio import SeqIO, pairwise2\n",
    "from Bio.Align import substitution_matrices\n"
   ]
  },
  {
   "cell_type": "markdown",
   "id": "f335b5da",
   "metadata": {},
   "source": [
    "<h3 style=\"background-color: #daebff; border-color: #bad5f6; border-left: 5px solid #bad5f6; padding: 1.5em; color: #6f89a9\">\n",
    "Problem 1 BLAST Command-Line Tool\n",
    "</h3>"
   ]
  },
  {
   "cell_type": "markdown",
   "id": "d2c4e893",
   "metadata": {},
   "source": [
    "#### (b) run BLAST (Please show your code below) and show your result file below: (Please load the file to show result below)"
   ]
  },
  {
   "cell_type": "markdown",
   "id": "7e1c4975",
   "metadata": {},
   "source": [
    "```bash\n",
    "cd HW2\n",
    "makeblastdb -in Ref_seqs.fasta -dbtype nucl -out MyNucleotideDB\n",
    "blastn -query Sanger_seq.fasta -db MyNucleotideDB -outfmt 6 -out blast_sanger_to_ref.txt\n",
    "```"
   ]
  },
  {
   "cell_type": "code",
   "execution_count": 232,
   "id": "4d1aecc8",
   "metadata": {},
   "outputs": [
    {
     "data": {
      "text/html": [
       "<div>\n",
       "<style scoped>\n",
       "    .dataframe tbody tr th:only-of-type {\n",
       "        vertical-align: middle;\n",
       "    }\n",
       "\n",
       "    .dataframe tbody tr th {\n",
       "        vertical-align: top;\n",
       "    }\n",
       "\n",
       "    .dataframe thead th {\n",
       "        text-align: right;\n",
       "    }\n",
       "</style>\n",
       "<table border=\"1\" class=\"dataframe\">\n",
       "  <thead>\n",
       "    <tr style=\"text-align: right;\">\n",
       "      <th></th>\n",
       "      <th>seq1</th>\n",
       "      <th>LOC_OS01G56930.1</th>\n",
       "      <th>97.538</th>\n",
       "      <th>528</th>\n",
       "      <th>13</th>\n",
       "      <th>0</th>\n",
       "      <th>9</th>\n",
       "      <th>536</th>\n",
       "      <th>153</th>\n",
       "      <th>680</th>\n",
       "      <th>0.0</th>\n",
       "      <th>904</th>\n",
       "    </tr>\n",
       "  </thead>\n",
       "  <tbody>\n",
       "  </tbody>\n",
       "</table>\n",
       "</div>"
      ],
      "text/plain": [
       "Empty DataFrame\n",
       "Columns: [seq1, LOC_OS01G56930.1, 97.538, 528, 13, 0, 9, 536, 153, 680, 0.0, 904]\n",
       "Index: []"
      ]
     },
     "execution_count": 232,
     "metadata": {},
     "output_type": "execute_result"
    }
   ],
   "source": [
    "# Load results\n",
    "q1=pd.read_csv(\"blast_sanger_to_ref.txt\",sep=\"\\t\")\n",
    "q1"
   ]
  },
  {
   "cell_type": "markdown",
   "id": "a9c23162",
   "metadata": {},
   "source": [
    "<h3 style=\"background-color: #daebff; border-color: #bad5f6; border-left: 5px solid #bad5f6; padding: 1.5em; color: #6f89a9\">\n",
    "Problem 2 Human-Mouse Protein Homologs\n",
    "</h3>"
   ]
  },
  {
   "cell_type": "markdown",
   "id": "7c596933",
   "metadata": {},
   "source": [
    "#### (a) Please parse blast_mouse2human.txt to a `pandas.DataFrame` named as `blast_df`"
   ]
  },
  {
   "cell_type": "code",
   "execution_count": 233,
   "id": "cafe2fa9",
   "metadata": {},
   "outputs": [
    {
     "data": {
      "text/html": [
       "<div>\n",
       "<style scoped>\n",
       "    .dataframe tbody tr th:only-of-type {\n",
       "        vertical-align: middle;\n",
       "    }\n",
       "\n",
       "    .dataframe tbody tr th {\n",
       "        vertical-align: top;\n",
       "    }\n",
       "\n",
       "    .dataframe thead th {\n",
       "        text-align: right;\n",
       "    }\n",
       "</style>\n",
       "<table border=\"1\" class=\"dataframe\">\n",
       "  <thead>\n",
       "    <tr style=\"text-align: right;\">\n",
       "      <th></th>\n",
       "      <th>qseqid</th>\n",
       "      <th>sseqid</th>\n",
       "      <th>pident</th>\n",
       "      <th>length</th>\n",
       "      <th>mismatch</th>\n",
       "      <th>gapopen</th>\n",
       "      <th>qstart</th>\n",
       "      <th>qend</th>\n",
       "      <th>sstart</th>\n",
       "      <th>send</th>\n",
       "      <th>evalue</th>\n",
       "      <th>bitscore</th>\n",
       "    </tr>\n",
       "  </thead>\n",
       "  <tbody>\n",
       "    <tr>\n",
       "      <th>0</th>\n",
       "      <td>Q9CQW9</td>\n",
       "      <td>Q01628</td>\n",
       "      <td>70.312</td>\n",
       "      <td>128</td>\n",
       "      <td>38</td>\n",
       "      <td>0</td>\n",
       "      <td>1</td>\n",
       "      <td>128</td>\n",
       "      <td>1</td>\n",
       "      <td>128</td>\n",
       "      <td>1.630000e-64</td>\n",
       "      <td>192.0</td>\n",
       "    </tr>\n",
       "    <tr>\n",
       "      <th>1</th>\n",
       "      <td>Q9CQW9</td>\n",
       "      <td>Q01629</td>\n",
       "      <td>66.165</td>\n",
       "      <td>133</td>\n",
       "      <td>43</td>\n",
       "      <td>2</td>\n",
       "      <td>1</td>\n",
       "      <td>133</td>\n",
       "      <td>1</td>\n",
       "      <td>131</td>\n",
       "      <td>9.930000e-61</td>\n",
       "      <td>182.0</td>\n",
       "    </tr>\n",
       "    <tr>\n",
       "      <th>2</th>\n",
       "      <td>Q9CQW9</td>\n",
       "      <td>C9JQL5</td>\n",
       "      <td>70.370</td>\n",
       "      <td>108</td>\n",
       "      <td>32</td>\n",
       "      <td>0</td>\n",
       "      <td>1</td>\n",
       "      <td>108</td>\n",
       "      <td>1</td>\n",
       "      <td>108</td>\n",
       "      <td>3.410000e-54</td>\n",
       "      <td>166.0</td>\n",
       "    </tr>\n",
       "    <tr>\n",
       "      <th>3</th>\n",
       "      <td>Q9CQW9</td>\n",
       "      <td>P13164</td>\n",
       "      <td>75.000</td>\n",
       "      <td>96</td>\n",
       "      <td>24</td>\n",
       "      <td>0</td>\n",
       "      <td>24</td>\n",
       "      <td>119</td>\n",
       "      <td>3</td>\n",
       "      <td>98</td>\n",
       "      <td>1.160000e-49</td>\n",
       "      <td>154.0</td>\n",
       "    </tr>\n",
       "    <tr>\n",
       "      <th>4</th>\n",
       "      <td>Q9CQW9</td>\n",
       "      <td>A6NNB3</td>\n",
       "      <td>48.052</td>\n",
       "      <td>77</td>\n",
       "      <td>25</td>\n",
       "      <td>2</td>\n",
       "      <td>32</td>\n",
       "      <td>108</td>\n",
       "      <td>26</td>\n",
       "      <td>87</td>\n",
       "      <td>2.170000e-21</td>\n",
       "      <td>82.8</td>\n",
       "    </tr>\n",
       "  </tbody>\n",
       "</table>\n",
       "</div>"
      ],
      "text/plain": [
       "   qseqid  sseqid  pident  length  mismatch  gapopen  qstart  qend  sstart  \\\n",
       "0  Q9CQW9  Q01628  70.312     128        38        0       1   128       1   \n",
       "1  Q9CQW9  Q01629  66.165     133        43        2       1   133       1   \n",
       "2  Q9CQW9  C9JQL5  70.370     108        32        0       1   108       1   \n",
       "3  Q9CQW9  P13164  75.000      96        24        0      24   119       3   \n",
       "4  Q9CQW9  A6NNB3  48.052      77        25        2      32   108      26   \n",
       "\n",
       "   send        evalue  bitscore  \n",
       "0   128  1.630000e-64     192.0  \n",
       "1   131  9.930000e-61     182.0  \n",
       "2   108  3.410000e-54     166.0  \n",
       "3    98  1.160000e-49     154.0  \n",
       "4    87  2.170000e-21      82.8  "
      ]
     },
     "execution_count": 233,
     "metadata": {},
     "output_type": "execute_result"
    }
   ],
   "source": [
    "blast_df=pd.read_csv(\"blastn_mouse2human.txt\",sep=\"\\t\",header=None,names=[\"qseqid\",\"sseqid\",\"pident\",\"length\",\"mismatch\",\"gapopen\",\"qstart\",\"qend\",\"sstart\",\"send\",\"evalue\",\"bitscore\"])\n",
    "blast_df.head()"
   ]
  },
  {
   "cell_type": "markdown",
   "id": "edfc46cb",
   "metadata": {},
   "source": [
    "#### (b) Box-plot showing E-value distribution for each query sequence \n",
    "\n",
    "please display the figure you generated"
   ]
  },
  {
   "cell_type": "code",
   "execution_count": 234,
   "id": "3f4500a5",
   "metadata": {},
   "outputs": [
    {
     "data": {
      "text/plain": [
       "<AxesSubplot:title={'center':'evalue'}, xlabel='qseqid', ylabel='E-value'>"
      ]
     },
     "execution_count": 234,
     "metadata": {},
     "output_type": "execute_result"
    },
    {
     "data": {
      "image/png": "[encoded data removed]",
      "text/plain": [
       "<Figure size 640x480 with 1 Axes>"
      ]
     },
     "metadata": {},
     "output_type": "display_data"
    }
   ],
   "source": [
    "# len(blast_df)\n",
    "# blast_df[\"qseqid\"].unique()\n",
    "\n",
    "\n",
    "plot1=blast_df[[\"qseqid\",\"evalue\"]].boxplot(column='evalue',by='qseqid',rot=45)\n",
    "plot1.set_ylabel(\"E-value\")\n",
    "plot1"
   ]
  },
  {
   "cell_type": "markdown",
   "id": "e46fb276",
   "metadata": {},
   "source": [
    "#### (c) Top-hits"
   ]
  },
  {
   "cell_type": "code",
   "execution_count": 235,
   "id": "31d0aee1",
   "metadata": {},
   "outputs": [],
   "source": [
    "qseqid_item=list(blast_df[\"qseqid\"].unique())"
   ]
  },
  {
   "cell_type": "code",
   "execution_count": 236,
   "id": "f19f695f",
   "metadata": {},
   "outputs": [
    {
     "data": {
      "text/html": [
       "<div>\n",
       "<style scoped>\n",
       "    .dataframe tbody tr th:only-of-type {\n",
       "        vertical-align: middle;\n",
       "    }\n",
       "\n",
       "    .dataframe tbody tr th {\n",
       "        vertical-align: top;\n",
       "    }\n",
       "\n",
       "    .dataframe thead th {\n",
       "        text-align: right;\n",
       "    }\n",
       "</style>\n",
       "<table border=\"1\" class=\"dataframe\">\n",
       "  <thead>\n",
       "    <tr style=\"text-align: right;\">\n",
       "      <th></th>\n",
       "      <th>qseqid</th>\n",
       "      <th>sseqid</th>\n",
       "      <th>pident</th>\n",
       "      <th>length</th>\n",
       "      <th>mismatch</th>\n",
       "      <th>gapopen</th>\n",
       "      <th>qstart</th>\n",
       "      <th>qend</th>\n",
       "      <th>sstart</th>\n",
       "      <th>send</th>\n",
       "      <th>evalue</th>\n",
       "      <th>bitscore</th>\n",
       "    </tr>\n",
       "  </thead>\n",
       "  <tbody>\n",
       "    <tr>\n",
       "      <th>65</th>\n",
       "      <td>P54103</td>\n",
       "      <td>Q99543</td>\n",
       "      <td>94.203</td>\n",
       "      <td>621</td>\n",
       "      <td>36</td>\n",
       "      <td>0</td>\n",
       "      <td>1</td>\n",
       "      <td>621</td>\n",
       "      <td>1</td>\n",
       "      <td>621</td>\n",
       "      <td>0.000000e+00</td>\n",
       "      <td>1129.0</td>\n",
       "    </tr>\n",
       "    <tr>\n",
       "      <th>195</th>\n",
       "      <td>Q01815</td>\n",
       "      <td>Q13936</td>\n",
       "      <td>91.408</td>\n",
       "      <td>2223</td>\n",
       "      <td>105</td>\n",
       "      <td>6</td>\n",
       "      <td>1</td>\n",
       "      <td>2139</td>\n",
       "      <td>1</td>\n",
       "      <td>2221</td>\n",
       "      <td>0.000000e+00</td>\n",
       "      <td>4163.0</td>\n",
       "    </tr>\n",
       "    <tr>\n",
       "      <th>531</th>\n",
       "      <td>Q78IQ7</td>\n",
       "      <td>Q6P5W5</td>\n",
       "      <td>71.184</td>\n",
       "      <td>642</td>\n",
       "      <td>161</td>\n",
       "      <td>5</td>\n",
       "      <td>24</td>\n",
       "      <td>660</td>\n",
       "      <td>25</td>\n",
       "      <td>647</td>\n",
       "      <td>0.000000e+00</td>\n",
       "      <td>791.0</td>\n",
       "    </tr>\n",
       "    <tr>\n",
       "      <th>123</th>\n",
       "      <td>Q8CJ12</td>\n",
       "      <td>Q8IZP9</td>\n",
       "      <td>80.686</td>\n",
       "      <td>1020</td>\n",
       "      <td>183</td>\n",
       "      <td>6</td>\n",
       "      <td>1</td>\n",
       "      <td>1009</td>\n",
       "      <td>1</td>\n",
       "      <td>1017</td>\n",
       "      <td>0.000000e+00</td>\n",
       "      <td>1602.0</td>\n",
       "    </tr>\n",
       "    <tr>\n",
       "      <th>17</th>\n",
       "      <td>Q8R2G6</td>\n",
       "      <td>Q76M96</td>\n",
       "      <td>83.455</td>\n",
       "      <td>955</td>\n",
       "      <td>147</td>\n",
       "      <td>3</td>\n",
       "      <td>1</td>\n",
       "      <td>949</td>\n",
       "      <td>1</td>\n",
       "      <td>950</td>\n",
       "      <td>0.000000e+00</td>\n",
       "      <td>1502.0</td>\n",
       "    </tr>\n",
       "    <tr>\n",
       "      <th>37</th>\n",
       "      <td>Q99KG5</td>\n",
       "      <td>Q86X29</td>\n",
       "      <td>79.966</td>\n",
       "      <td>594</td>\n",
       "      <td>102</td>\n",
       "      <td>7</td>\n",
       "      <td>13</td>\n",
       "      <td>594</td>\n",
       "      <td>61</td>\n",
       "      <td>649</td>\n",
       "      <td>0.000000e+00</td>\n",
       "      <td>822.0</td>\n",
       "    </tr>\n",
       "    <tr>\n",
       "      <th>0</th>\n",
       "      <td>Q9CQW9</td>\n",
       "      <td>Q01628</td>\n",
       "      <td>70.312</td>\n",
       "      <td>128</td>\n",
       "      <td>38</td>\n",
       "      <td>0</td>\n",
       "      <td>1</td>\n",
       "      <td>128</td>\n",
       "      <td>1</td>\n",
       "      <td>128</td>\n",
       "      <td>1.630000e-64</td>\n",
       "      <td>192.0</td>\n",
       "    </tr>\n",
       "    <tr>\n",
       "      <th>554</th>\n",
       "      <td>Q9D067</td>\n",
       "      <td>Q8TC05</td>\n",
       "      <td>69.444</td>\n",
       "      <td>720</td>\n",
       "      <td>200</td>\n",
       "      <td>13</td>\n",
       "      <td>1</td>\n",
       "      <td>707</td>\n",
       "      <td>1</td>\n",
       "      <td>713</td>\n",
       "      <td>0.000000e+00</td>\n",
       "      <td>936.0</td>\n",
       "    </tr>\n",
       "    <tr>\n",
       "      <th>504</th>\n",
       "      <td>Q9D103</td>\n",
       "      <td>Q01628</td>\n",
       "      <td>67.961</td>\n",
       "      <td>103</td>\n",
       "      <td>32</td>\n",
       "      <td>1</td>\n",
       "      <td>1</td>\n",
       "      <td>102</td>\n",
       "      <td>22</td>\n",
       "      <td>124</td>\n",
       "      <td>4.210000e-46</td>\n",
       "      <td>144.0</td>\n",
       "    </tr>\n",
       "    <tr>\n",
       "      <th>516</th>\n",
       "      <td>Q9ESJ7</td>\n",
       "      <td>Q5VVH5</td>\n",
       "      <td>82.308</td>\n",
       "      <td>260</td>\n",
       "      <td>45</td>\n",
       "      <td>1</td>\n",
       "      <td>1</td>\n",
       "      <td>259</td>\n",
       "      <td>1</td>\n",
       "      <td>260</td>\n",
       "      <td>8.310000e-158</td>\n",
       "      <td>438.0</td>\n",
       "    </tr>\n",
       "    <tr>\n",
       "      <th>523</th>\n",
       "      <td>Q9JMH3</td>\n",
       "      <td>Q9Y3R4</td>\n",
       "      <td>68.966</td>\n",
       "      <td>377</td>\n",
       "      <td>116</td>\n",
       "      <td>1</td>\n",
       "      <td>1</td>\n",
       "      <td>376</td>\n",
       "      <td>1</td>\n",
       "      <td>377</td>\n",
       "      <td>0.000000e+00</td>\n",
       "      <td>548.0</td>\n",
       "    </tr>\n",
       "  </tbody>\n",
       "</table>\n",
       "</div>"
      ],
      "text/plain": [
       "     qseqid  sseqid  pident  length  mismatch  gapopen  qstart  qend  sstart  \\\n",
       "65   P54103  Q99543  94.203     621        36        0       1   621       1   \n",
       "195  Q01815  Q13936  91.408    2223       105        6       1  2139       1   \n",
       "531  Q78IQ7  Q6P5W5  71.184     642       161        5      24   660      25   \n",
       "123  Q8CJ12  Q8IZP9  80.686    1020       183        6       1  1009       1   \n",
       "17   Q8R2G6  Q76M96  83.455     955       147        3       1   949       1   \n",
       "37   Q99KG5  Q86X29  79.966     594       102        7      13   594      61   \n",
       "0    Q9CQW9  Q01628  70.312     128        38        0       1   128       1   \n",
       "554  Q9D067  Q8TC05  69.444     720       200       13       1   707       1   \n",
       "504  Q9D103  Q01628  67.961     103        32        1       1   102      22   \n",
       "516  Q9ESJ7  Q5VVH5  82.308     260        45        1       1   259       1   \n",
       "523  Q9JMH3  Q9Y3R4  68.966     377       116        1       1   376       1   \n",
       "\n",
       "     send         evalue  bitscore  \n",
       "65    621   0.000000e+00    1129.0  \n",
       "195  2221   0.000000e+00    4163.0  \n",
       "531   647   0.000000e+00     791.0  \n",
       "123  1017   0.000000e+00    1602.0  \n",
       "17    950   0.000000e+00    1502.0  \n",
       "37    649   0.000000e+00     822.0  \n",
       "0     128   1.630000e-64     192.0  \n",
       "554   713   0.000000e+00     936.0  \n",
       "504   124   4.210000e-46     144.0  \n",
       "516   260  8.310000e-158     438.0  \n",
       "523   377   0.000000e+00     548.0  "
      ]
     },
     "execution_count": 236,
     "metadata": {},
     "output_type": "execute_result"
    }
   ],
   "source": [
    "top_hit = blast_df.loc[blast_df.groupby('qseqid')['evalue'].idxmin()]\n",
    "top_hit"
   ]
  },
  {
   "cell_type": "code",
   "execution_count": 237,
   "id": "62ef14b8",
   "metadata": {},
   "outputs": [
    {
     "data": {
      "text/html": [
       "<div>\n",
       "<style scoped>\n",
       "    .dataframe tbody tr th:only-of-type {\n",
       "        vertical-align: middle;\n",
       "    }\n",
       "\n",
       "    .dataframe tbody tr th {\n",
       "        vertical-align: top;\n",
       "    }\n",
       "\n",
       "    .dataframe thead th {\n",
       "        text-align: right;\n",
       "    }\n",
       "</style>\n",
       "<table border=\"1\" class=\"dataframe\">\n",
       "  <thead>\n",
       "    <tr style=\"text-align: right;\">\n",
       "      <th></th>\n",
       "      <th>qseqid</th>\n",
       "      <th>sseqid</th>\n",
       "      <th>pident</th>\n",
       "      <th>length</th>\n",
       "      <th>mismatch</th>\n",
       "      <th>gapopen</th>\n",
       "      <th>qstart</th>\n",
       "      <th>qend</th>\n",
       "      <th>sstart</th>\n",
       "      <th>send</th>\n",
       "      <th>evalue</th>\n",
       "      <th>bitscore</th>\n",
       "    </tr>\n",
       "  </thead>\n",
       "  <tbody>\n",
       "    <tr>\n",
       "      <th>0</th>\n",
       "      <td>Q9CQW9</td>\n",
       "      <td>Q01628</td>\n",
       "      <td>70.312</td>\n",
       "      <td>128</td>\n",
       "      <td>38</td>\n",
       "      <td>0</td>\n",
       "      <td>1</td>\n",
       "      <td>128</td>\n",
       "      <td>1</td>\n",
       "      <td>128</td>\n",
       "      <td>1.630000e-64</td>\n",
       "      <td>192.0</td>\n",
       "    </tr>\n",
       "    <tr>\n",
       "      <th>1</th>\n",
       "      <td>Q9D103</td>\n",
       "      <td>Q01628</td>\n",
       "      <td>67.961</td>\n",
       "      <td>103</td>\n",
       "      <td>32</td>\n",
       "      <td>1</td>\n",
       "      <td>1</td>\n",
       "      <td>102</td>\n",
       "      <td>22</td>\n",
       "      <td>124</td>\n",
       "      <td>4.210000e-46</td>\n",
       "      <td>144.0</td>\n",
       "    </tr>\n",
       "  </tbody>\n",
       "</table>\n",
       "</div>"
      ],
      "text/plain": [
       "   qseqid  sseqid  pident  length  mismatch  gapopen  qstart  qend  sstart  \\\n",
       "0  Q9CQW9  Q01628  70.312     128        38        0       1   128       1   \n",
       "1  Q9D103  Q01628  67.961     103        32        1       1   102      22   \n",
       "\n",
       "   send        evalue  bitscore  \n",
       "0   128  1.630000e-64     192.0  \n",
       "1   124  4.210000e-46     144.0  "
      ]
     },
     "execution_count": 237,
     "metadata": {},
     "output_type": "execute_result"
    }
   ],
   "source": [
    "qualified_top_hit=top_hit[top_hit[\"length\"]<=200]\n",
    "qualified_top_hit=qualified_top_hit.reset_index(drop=True)\n",
    "qualified_top_hit"
   ]
  },
  {
   "cell_type": "markdown",
   "id": "d4b3e9d5",
   "metadata": {},
   "source": [
    "#### (d) Load UniProt_Partial_MM.fasta and UniProt_HS.fasta with `SeqIO` module"
   ]
  },
  {
   "cell_type": "code",
   "execution_count": 238,
   "id": "8a141a2b",
   "metadata": {},
   "outputs": [],
   "source": [
    "import os\n",
    "dict_query=SeqIO.to_dict(SeqIO.parse(os.path.join(\"data\",\"UniProt_Partial_MM.fasta\"),\"fasta\"))\n",
    "dict_target=SeqIO.to_dict(SeqIO.parse(os.path.join(\"data\",\"UniProt_HS.fasta\"),\"fasta\"))\n",
    "# dict1.keys()"
   ]
  },
  {
   "cell_type": "code",
   "execution_count": 239,
   "id": "e77151d5",
   "metadata": {},
   "outputs": [],
   "source": [
    "from Bio.Align import substitution_matrices\n",
    "# substitution_matrices.load()"
   ]
  },
  {
   "cell_type": "markdown",
   "id": "d7b18659",
   "metadata": {},
   "source": [
    "#### (e) Pairwise alignment with `pairwise2`"
   ]
  },
  {
   "cell_type": "code",
   "execution_count": 240,
   "id": "1f105601",
   "metadata": {},
   "outputs": [],
   "source": [
    "matrix = substitution_matrices.load(\"BLOSUM62\")\n",
    "# pairwise2.align.localds(dict_target[\"Q01628\"].seq, dict_query[\"Q9D103\"].seq,match_dict=matrix, open=-20, extend=-10)"
   ]
  },
  {
   "cell_type": "code",
   "execution_count": 241,
   "id": "8eaf1ade",
   "metadata": {},
   "outputs": [
    {
     "name": "stdout",
     "output_type": "stream",
     "text": [
      "1 MNHTVQTFFSPVNSGQPPNYEMLKEEHEVAVLGAPHNPAPPTSTVIHIRSETSVPDHVVWSLFNTLFMNPCCLGFIAFAYSVKSRDRKMVGDVTGAQAYASTAKCLNIWALILGILMTILLIVIPVLI\n",
      "  ||||.|.|......|||||||..|||.|||..||||..|....|||....|.|||||||||||||||||.|||||||.||||||||||||||||||||||||||||||..|.|.|||....||....|\n",
      "1 MNHTSQAFITAASGGQPPNYERIKEEYEVAEMGAPHGSASVRTTVINMPREVSVPDHVVWSLFNTLFMNFCCLGFIAYAYSVKSRDRKMVGDVTGAQAYASTAKCLNISTLVLSILMVVITIVSVIII\n",
      "  Score=473\n",
      "\n",
      "22 MLKEEHEVAVLGAPHNPAPPTSTVIHIRSETSVPDHVVWSLFNTLFMNPCCLGFIAFAYSVKSRDRKMVGDVTGAQAYASTAKCLNIWALILGILMTILLIVI\n",
      "   |.||..||.|||.||.....|.|.|.. .|.|.|||||||||||||||.|||||.|.||||||||||||||.|||||.|||||||||..|...||..|..||.\n",
      " 1 MPKEQQEVVVLGSPHISTSATATTINM-PEISTPDHVVWSLFNTLFMNFCCLGFVAYAYSVKSRDRKMVGDTTGAQAFASTAKCLNISSLFFTILTAIVVIVV\n",
      "  Score=343\n",
      "\n"
     ]
    }
   ],
   "source": [
    "for i in range(len(qualified_top_hit)):\n",
    "        align_l=pairwise2.align.localds(dict_target[qualified_top_hit[\"sseqid\"][i]].seq, dict_query[qualified_top_hit[\"qseqid\"][i]].seq, match_dict=matrix, open=-20, extend=-10)\n",
    "        print(pairwise2.format_alignment(*align_l[0]))"
   ]
  },
  {
   "cell_type": "markdown",
   "id": "6204daa6",
   "metadata": {},
   "source": [
    "<h3 style=\"background-color: #daebff; border-color: #bad5f6; border-left: 5px solid #bad5f6; padding: 1.5em; color: #6f89a9\">\n",
    "Problem 3 Next-Generation Sequencing Data Analysis\n",
    "</h3>"
   ]
  },
  {
   "cell_type": "markdown",
   "id": "197b1e40",
   "metadata": {},
   "source": [
    "#### (a) Load FASTQ file (sample.fastq) and create dictionaries"
   ]
  },
  {
   "cell_type": "code",
   "execution_count": 252,
   "id": "84916fc0",
   "metadata": {},
   "outputs": [
    {
     "data": {
      "text/plain": [
       "['@HWI-ST397:389:C42DEACXX:8:1101:1161:8228\\n',\n",
       " 'GAGGTNNNNNNNNNNNNNNNNNNNNNNNNAAAGNATGATCAGGGAGTGGAACCTTAGCTCGAGCCCGCAGATGACCTGGATGGAGGCACGGAGGAGCAGGG\\n',\n",
       " '+\\n',\n",
       " '<<<?@########################-0<=#0<=?????????=???????????@@??===<<<<<<====<=<<<==<=<<<<<::6:95<<8<<6\\n',\n",
       " '@HWI-ST397:389:C42DEACXX:8:1101:19784:8212\\n',\n",
       " 'AAAGGAGAAAAGAAATTGCCCAGAAGGCAGCAGAGGAAAATGAGAGATACCGGAAGGAGATGGAACAGATT\\n',\n",
       " '+\\n',\n",
       " 'CCCFFFFFHHHHHJJJJIJJJJJJJJJJJJJJJJJJJJJJJJJJJJJJJJJJJJJJJIHHHHHFFFFFEEE\\n',\n",
       " '@HWI-ST397:389:C42DEACXX:8:1101:13264:8455\\n',\n",
       " 'GTGGGAGACCTGAAGCTGGTCATCAATGAACCCAGCCGTCTGCCTCTGTTTGATGCCATTCGGCCGCTGATCCCACTGAAGCACCAGGTGGAATATGATCA\\n']"
      ]
     },
     "execution_count": 252,
     "metadata": {},
     "output_type": "execute_result"
    }
   ],
   "source": [
    "# record_dict = SeqIO.to_dict(SeqIO.parse(os.path.join(\"data\",\"sample.fastq\"), \"fastq\"))\n",
    "with open(os.path.join(\"data\",\"sample.fastq\"), \"r\") as f:\n",
    "    lines = f.readlines()\n",
    "lines[:10]"
   ]
  },
  {
   "cell_type": "code",
   "execution_count": 257,
   "id": "a7b971e8",
   "metadata": {},
   "outputs": [
    {
     "data": {
      "text/plain": [
       "'GAGGTNNNNNNNNNNNNNNNNNNNNNNNNAAAGNATGATCAGGGAGTGGAACCTTAGCTCGAGCCCGCAGATGACCTGGATGGAGGCACGGAGGAGCAGG'"
      ]
     },
     "execution_count": 257,
     "metadata": {},
     "output_type": "execute_result"
    }
   ],
   "source": [
    "#  'GAGGTNNNNNNNNNNNNNNNNNNNNNNNNAAAGNATGATCAGGGAGTGGAACCTTAGCTCGAGCCCGCAGATGACCTGGATGGAGGCACGGAGGAGCAGGG\\n'[:-2]"
   ]
  },
  {
   "cell_type": "code",
   "execution_count": 260,
   "id": "ccdf7d6c",
   "metadata": {},
   "outputs": [
    {
     "data": {
      "text/plain": [
       "{'HWI-ST397:389:C42DEACXX:8:1101:1161:8228': 'GAGGTNNNNNNNNNNNNNNNNNNNNNNNNAAAGNATGATCAGGGAGTGGAACCTTAGCTCGAGCCCGCAGATGACCTGGATGGAGGCACGGAGGAGCAGGG',\n",
       " 'HWI-ST397:389:C42DEACXX:8:1101:19784:8212': 'AAAGGAGAAAAGAAATTGCCCAGAAGGCAGCAGAGGAAAATGAGAGATACCGGAAGGAGATGGAACAGATT',\n",
       " 'HWI-ST397:389:C42DEACXX:8:1101:13264:8455': 'GTGGGAGACCTGAAGCTGGTCATCAATGAACCCAGCCGTCTGCCTCTGTTTGATGCCATTCGGCCGCTGATCCCACTGAAGCACCAGGTGGAATATGATCA',\n",
       " 'HWI-ST397:389:C42DEACXX:8:1101:19899:12747': 'CCAGAGCAGATCATGGGGAAGGATGTCCGGCTCCTACGCATCAAGAAGGAGGGATCCTTAGACCTGGCCCT',\n",
       " 'HWI-ST397:389:C42DEACXX:8:1101:19165:15788': 'GGGAAGGATGTCCGGCTCCTACGCATCAAGAAGGAGGGATCCTTAGACCTGGCCCTGGAAGGCGGTGTGGACTCCCCCATTGGGAAGGTGGTTGTTTCTGC',\n",
       " 'HWI-ST397:389:C42DEACXX:8:1101:15398:23113': 'ACGAGATCATGGCAATCAACGGCAAGATTGTGACAGACTACACCCTGGCTGAGGCTGACGCTGCCCTGCAGAAGGCCTGGAATCAGGGCGGGGACTGGATC',\n",
       " 'HWI-ST397:389:C42DEACXX:8:1101:18936:24726': 'CGGTGTGGACTCCCCAATTGGGAAGGTGGTTGTTTCTGCTGTGTATGAGCGGGGAGCTGCTGAGCGGCATGGTGGCATTGTGAAAGGGGACGAGATCATGA',\n",
       " 'HWI-ST397:389:C42DEACXX:8:1101:2945:25544': 'CTTGGCTGCAGCATTTCCAGCGGCCCCATCCAGAAGCCTGGCATCTTTATCAGCCATGTGAAACCTGGCTCCCTGTCTGCTGAGGTGGGATTGGAGATAGG',\n",
       " 'HWI-ST397:389:C42DEACXX:8:1101:3622:28554': 'TGGAGTTTGGCTGTGGGCTCTTCATCTCCCACCTCATCAAAGGCGGTCAGGCAGACAGCGTCGGGCTCCAGGTAGGGGACGAGATCGTCCGGATCAATGGA',\n",
       " 'HWI-ST397:389:C42DEACXX:8:1101:8092:29091': 'CCATCACTGCTGAGGTACACCCGGTACCCCTTCGCAAGCCAAAGTATGATCAGGGAGTGGAACCTGAGCTCGAGCCCGCAGATGACCTGGATGGAGGCACG',\n",
       " 'HWI-ST397:389:C42DEACXX:8:1101:10058:30376': 'GACGAGATCATGGCAATCAACGGCAAGATTGTGACAGACTACACCCTGGCTGAGGCTGACGCTGCCCTGCAGAAGGCCTGGAATCAGGGCGGGGACTGGAT',\n",
       " 'HWI-ST397:389:C42DEACXX:8:1101:3113:30904': 'AAGGTGGTTGTTTCTGCTGTGTATGAGCGGGGAGCTGCTGAGCGGCATGGTGGCATTGTGAAAGGGGACGAGATCATGGCAATCAACGGCAAGATTGTGAC',\n",
       " 'HWI-ST397:389:C42DEACXX:8:1101:6392:37946': 'GAGGAGGAAGAGAAGTTTAAGAAGCAATGGGAAGAAGACTGGGGCTCAAAGGAACAGCTACTCTTGCCTAAAACCATCACTGCTGAGGTACACCCGGTACC',\n",
       " 'HWI-ST397:389:C42DEACXX:8:1101:1318:46052': 'GCGGCATGGTGGCATTGTGAAAGGGGACGAGATCATGGCAATCAACGGCAAGATTGTGACAGACTACACCCTGGCTGAGGCTGACGCTGCCCTGCAGAAGG',\n",
       " 'HWI-ST397:389:C42DEACXX:8:1101:20640:47673': 'TATGATGTGCTGCGAATGTACCACCAGACCATGGACGTGGCCGTGCTCGTGGGAGACCTGAAGCTGGTCATCAATGAACCCAGCCGTCTGCCTCTGTTTGA',\n",
       " 'HWI-ST397:389:C42DEACXX:8:1101:19647:47752': 'GGAGGGATCCTTAGACCTGGCCCTGGAAGGCGGTGTGGACTCCCCCATTGGGAAGGTGGTTGTTTCTGCTGTGTATGAGCGGGGAGCTGCTGAGCGGCATG',\n",
       " 'HWI-ST397:389:C42DEACXX:8:1101:4516:48202': 'GGCAGCGTGAGCTGCAGCGGCAGGAGCTTCTCATGCAGAAGCGGCTGGCGATGGAGTCCAACAAGATCCTCCAGGAGCAGCAGGAGATGGAGCGGCAAAGG',\n",
       " 'HWI-ST397:389:C42DEACXX:8:1101:12836:50406': 'CGGCTGGCGATGGAGTCCAACAAGATCCTCCAGGAGCAGCAGGAGATGGAGCGGCAAAGGAGAAAAGAAATTGCCCAGAAGGCAGCAGAGGAAAATGAGAG',\n",
       " 'HWI-ST397:389:C42DEACXX:8:1101:9351:54509': 'CAGGAAGCTGAAGGAGGTGCGTCTGGACCGTCTGCACCCCGAAGGCCTCGGCCTGAGTGTGCG',\n",
       " 'HWI-ST397:389:C42DEACXX:8:1101:13685:55953': 'AGGGGACGAGATCATGGCAATCAACGGCAAGATTGTGACAGACTACACCCTGGCTGAGGCTGACGCTGCCCTGCAGAAGGCCTGGAATCAGGGCGGGGACT',\n",
       " 'HWI-ST397:389:C42DEACXX:8:1101:21142:55969': 'TTGTGAAAGGGGACGAGATCATGGCAATCAACGGCAAGATTGTGACAGACTACACCCTGGCTGAGGCTGACGCTGCCCTGCAGAAGGCCTGGAATCAGGGC',\n",
       " 'HWI-ST397:389:C42DEACXX:8:1101:12804:60765': 'TCAGCTGACCCCCGGCGCTCCAGGAAGCTGAAGGAGGTGCGTCTGGACCGTCTGCACCCCGAAGGCCTCGGCCTGAGTGTGCGTG',\n",
       " 'HWI-ST397:389:C42DEACXX:8:1101:5745:66150': 'GAAGGAGGTGCGTCTGGACCGTCTGCACCCCGAAGGCCTCGGCCTGAGTGTGCGTGGTGGCCTGGAGTTTGGCTGTGGGCTCTTCATCTCCCACCTCATCA',\n",
       " 'HWI-ST397:389:C42DEACXX:8:1101:10018:72765': 'TGCTGCGAATGTACCACCAGACCATGGACGTGGCCGTGCTCGTGGGAGACCTGAAGCTGGTCATCAATGAACCCAGCCGTCTGCCTCTGTTTGATGCCAAG',\n",
       " 'HWI-ST397:389:C42DEACXX:8:1101:17087:74281': 'GATCACAAGGAGGGCCGGGAGCTGTTCATGACAGACCGGGAGCGGCTGGCAGAGGCGCGGCAGCGTGAGCTGCAGCGGCAGGAGCTTCTCATGCAGAAGCG',\n",
       " 'HWI-ST397:389:C42DEACXX:8:1101:4439:76509': 'TCGACTTCTCTAACCTGGATCACAAGGAGGGCCGGGAGCTGTTCATGACAGACCGGGAGCGGCTGGCAGAGGCGCGGCAGCGTGAGCTGCAGCGGCAGGAG',\n",
       " 'HWI-ST397:389:C42DEACXX:8:1101:1592:80622': 'AAGGCTTTGACCCCTACTCTATGTTCACCCCAGAGCAGATCATGGGGAAGGATGTCCGGCTCCTACGCATCAAGAAGGAGGGATCCTTAGACCTGGCCCTG',\n",
       " 'HWI-ST397:389:C42DEACXX:8:1101:5850:83795': 'GGAGGCACGGAGGAGCAGGGAGAGCAGGATTTCCGGAAATATGAGGAAGGCTTTGACCCCTACTCTATGTTCACCCCAGAGCAGATCATGGGGAAGGATGT',\n",
       " 'HWI-ST397:389:C42DEACXX:8:1101:7730:86499': 'TGCAGCATTTCCAGCGGCCCCATCCAGAAGCCTGGCATCTTTATCAGCCATGTGAAACCTGGCTCCCTGTCTGCTGAGGTGGGATTGGAGATAGGGGACCA',\n",
       " 'HWI-ST397:389:C42DEACXX:8:1101:20844:87704': 'AACCCAGCCGTCTGCCTCTGTTTGATGCCATTCGGCCGCTGATCCCACTGAAGCACCAGGTGGAATATGATCAGCTGACCCCCGGCGCTCCAGGAAGCTGA',\n",
       " 'HWI-ST397:389:C42DEACXX:8:1101:13705:87810': 'GCTCCTACGCATCAAGAAGGAGGGATCCTTAGACCTGGCCCTGGAAGGCGGTGTGGACTCCCCCATTGGGAAGGTGGTTGTTTCTGCTGTGTATGAGCGGG',\n",
       " 'HWI-ST397:389:C42DEACXX:8:1101:7762:88629': 'CCACTGAAGCACCAGGTGGAATATGATCAGCTGACCCCCGGCGCTCCAGGAAGCTGAAGGAGGTGCGTCTGGACCGTCTGCACCCCGAAGGCCTCGGCCTG',\n",
       " 'HWI-ST397:389:C42DEACXX:8:1101:13027:89196': 'CGTGGCCGTGCTCGTGGGAGACCTGAAGCTGGTCATCAATGAACCCAGCCGTCTGCCTCTGTTTGATGCCATTCGGCC',\n",
       " 'HWI-ST397:389:C42DEACXX:8:1101:7720:92433': 'CCGAGAATTCCGGCATAAGGTGGATTTTCTGATTGAAAATGATGCAGAGAAGGACTATCTCTATGATGTGCTGCGAATGTACCACCAGACCATGGACGTGG',\n",
       " 'HWI-ST397:389:C42DEACXX:8:1101:3857:96648': 'ATCAGCTGACCCCCGGCGCTCCAGGAAGCTGAAGGAGGTGCGTCTGGACCGTCTGCACCCCGAAGGCCTCGGCCTGAGTGTGCGT',\n",
       " 'HWI-ST397:389:C42DEACXX:8:1101:17379:99629': 'CTACGCATCAAGAAGGAGGGATCCTTAGACCTGGCCCTGGAAGGCGGTGTGGACTCCCCCATTGGGAAGGTGGTTGTTTCTGCTGTGTATGAGCGGGGAGC',\n",
       " 'HWI-ST397:389:C42DEACXX:8:1101:18124:99779': 'CTGATCCCACTGAAGCACCAGGTGGAATATGATCAGCTGACCCCCGGCGCTCCAGGAAGCTGAAGGAGGTGCGTCTGGACCGTCTGCACCCCGAAGGCCTC',\n",
       " 'HWI-ST397:389:C42DEACXX:8:1102:2069:3107': 'GGAGGTGCGTCTGGACCGTCTGCACCCCGAAGGCCTCGGCCTGAGTGTGCGTGGTGGCCTGGAGTTTGGCTGTGGGCTCTTCATCTCCCACCTCATCAAAG',\n",
       " 'HWI-ST397:389:C42DEACXX:8:1102:16718:15482': 'GGCCTGGAATCAGGGCGGGGACTGGATCGACCTTGTGGTTGCCGTCTGCCCCCCAAAGGAGTATGACGATGAGCTGACCTCCTTCTGCCCAACTTTCTTGT',\n",
       " 'HWI-ST397:389:C42DEACXX:8:1102:4212:17025': 'TCATCAGCCTGGTAGGCTCCCGAGGCCTTGGCTGCAGCATTTCCAGCGGCCCCATCCAGAAGCCTGGCATCTTTATCAGCCATGTGAAACCTGGCTCCCTG',\n",
       " 'HWI-ST397:389:C42DEACXX:8:1102:20555:17536': 'GACAGACCGGGAGCGGCTGGCAGAGGCGCGGCAGCGTGAGCTGCAGCGGCAGGAGCTTCTCATGCAGAAGCGGCTGGCGATGGAGTCCAACAAGATCCTCC',\n",
       " 'HWI-ST397:389:C42DEACXX:8:1102:2041:19242': 'TGCAGAGAAGGACTATCTCTATGATGTGCTGCGAATGTACCACCAGACCATGGACGTGGCCGTGCTCGTGGGAGACCTGAAGCTGGTCATCAATGAACCCA',\n",
       " 'HWI-ST397:389:C42DEACXX:8:1102:8978:19973': 'AACCTCATTCGAACCAAGAAAACTGTGTCCATCAAAGTGAGACACATCGGCCTGATCCCCGTGAAAAGCTCTCCTGATGAGCCCCTCACTTGGCAGTATGT',\n",
       " 'HWI-ST397:389:C42DEACXX:8:1102:12442:19882': 'GCTGAGGTACACCCGGTACCCCTTCGCAAGCCAAAGTATGATCAGGGAGTGGAACCTGAGCTCGAGCCCGCAGATGACCTGGATGGAGGCACGGAGGAGCA',\n",
       " 'HWI-ST397:389:C42DEACXX:8:1102:17797:20769': 'CTGGCTCCCTGTCTGCTGAGGTGGGATTGGAGATAGGGGACCAGATTGTCGAAGTCAATGGCGTCGACTTCTCTAACCTGGATCACAAGGAGGGCCGGGAG'}"
      ]
     },
     "execution_count": 260,
     "metadata": {},
     "output_type": "execute_result"
    }
   ],
   "source": [
    "# record_dict = SeqIO.to_dict(SeqIO.parse(os.path.join(\"data\",\"sample.fastq\"), \"fastq\"))\n",
    "# record_dict\n",
    "label2seq={}\n",
    "label2qual={}\n",
    "\n",
    "for i in range(0, len(lines), 4):\n",
    "    # remove newline character; only extract the identifier; remove \"@\"\n",
    "    seq_label = lines[i].strip().split(\" \")[0][1:]\n",
    "    seq_str=lines[i+1].strip()\n",
    "    seq_qual = lines[i+3].strip()\n",
    "    label2seq[seq_label] = seq_str\n",
    "    label2qual[seq_label] =seq_qual\n",
    "\n",
    "label2seq"
   ]
  },
  {
   "cell_type": "code",
   "execution_count": null,
   "id": "fbfb9481",
   "metadata": {},
   "outputs": [],
   "source": [
    "\n"
   ]
  },
  {
   "cell_type": "markdown",
   "id": "58ac2579",
   "metadata": {},
   "source": [
    "#### (b) GC content per sequence\n",
    "\n",
    "*Please follow the following steps and display the histogram you generated.*\n",
    "\n",
    "* First, let's take a step back and try to define a function `gc_content()` that takes a single sequence string\n",
    "* Next, we can loop through all the sequence string we have, and apply the `gc_content()` function to each of them. You may want to append your results to a list\n",
    "* Finally, we can generate a histogram with `matplotlib` package. "
   ]
  },
  {
   "cell_type": "code",
   "execution_count": 265,
   "id": "c03664cd",
   "metadata": {},
   "outputs": [],
   "source": [
    "def gc_content(str):\n",
    "    return (str.count(\"G\")+str.count(\"C\"))/(str.count(\"A\")+str.count(\"T\")+str.count(\"G\")+str.count(\"C\"))"
   ]
  },
  {
   "cell_type": "code",
   "execution_count": 299,
   "id": "38afddd5",
   "metadata": {},
   "outputs": [],
   "source": [
    "gc_result=[]\n",
    "for i in label2seq:\n",
    "    gc_result.append(gc_content(label2seq[i])) "
   ]
  },
  {
   "cell_type": "code",
   "execution_count": 327,
   "id": "f1a5b211",
   "metadata": {},
   "outputs": [
    {
     "data": {
      "image/png": "[encoded data removed]",
      "text/plain": [
       "<Figure size 640x480 with 1 Axes>"
      ]
     },
     "metadata": {},
     "output_type": "display_data"
    }
   ],
   "source": [
    "gc_result_df=pd.DataFrame(gc_result,columns=[\"GC Content\"])\n",
    "plt.hist(gc_result_df,color=\"r\",ec=\"blue\")\n",
    "plt.xlabel(\"GC-Content\")\n",
    "plt.ylabel(\"Counts\")\n",
    "plt.show()\n",
    "# plot=gc_result_df.hist()\n",
    "# for it in plot[0]:\n",
    "#     it.set_ylabel(\"Counts\")\n",
    "# plot    "
   ]
  },
  {
   "cell_type": "markdown",
   "id": "f74f0a79",
   "metadata": {},
   "source": [
    "#### (c) Per-sequence average quality\n",
    "\n",
    "*Please follow the following steps and display the density plot you generated.*\n",
    "\n",
    "* Similar to part (b), let's first define a function `parse_quality_string()` that converts a single quality string to a list of quality scores\n",
    "* Then, we can loop through all the quality strings, apply the `parse_quality_string()` function to each of them, and compute the average score of each string (you can do this with `mean` from the built-in `statistics` module). Similarly, you can use a list to store your results.\n",
    "* Finally, we can generate a density plot with `seaborn.kdeplot()`. "
   ]
  },
  {
   "cell_type": "code",
   "execution_count": 312,
   "id": "bdd8f9f4",
   "metadata": {},
   "outputs": [],
   "source": [
    "def parse_quality_string(string, base=33):\n",
    "    qualities = []\n",
    "    for char in string:\n",
    "        qualities.append(ord(char)-base)\n",
    "    return qualities"
   ]
  },
  {
   "cell_type": "code",
   "execution_count": 320,
   "id": "92e109dd",
   "metadata": {},
   "outputs": [
    {
     "data": {
      "text/plain": [
       "[21.04950495049505,\n",
       " 39.61971830985915,\n",
       " 37.86138613861386,\n",
       " 39.08450704225352,\n",
       " 37.53465346534654,\n",
       " 37.48514851485149,\n",
       " 36.92079207920792,\n",
       " 38.15841584158416,\n",
       " 37.13861386138614,\n",
       " 37.98019801980198,\n",
       " 37.76237623762376,\n",
       " 36.772277227722775,\n",
       " 38.46534653465346,\n",
       " 37.148514851485146,\n",
       " 37.68316831683168,\n",
       " 37.08910891089109,\n",
       " 35.227722772277225,\n",
       " 38.84158415841584,\n",
       " 38.92063492063492,\n",
       " 37.663366336633665,\n",
       " 37.613861386138616,\n",
       " 35.94117647058823,\n",
       " 36.89108910891089,\n",
       " 37.51485148514851,\n",
       " 30.22772277227723,\n",
       " 37.04950495049505,\n",
       " 37.663366336633665,\n",
       " 38.26732673267327,\n",
       " 38.18811881188119,\n",
       " 37.95049504950495,\n",
       " 37.46534653465346,\n",
       " 36.772277227722775,\n",
       " 38.82051282051282,\n",
       " 38.93069306930693,\n",
       " 36.470588235294116,\n",
       " 36.26732673267327,\n",
       " 35.94059405940594,\n",
       " 37.78217821782178,\n",
       " 37.24752475247525,\n",
       " 38.04950495049505,\n",
       " 37.99009900990099,\n",
       " 38.17821782178218,\n",
       " 37.722772277227726,\n",
       " 37.524752475247524,\n",
       " 37.742574257425744]"
      ]
     },
     "execution_count": 320,
     "metadata": {},
     "output_type": "execute_result"
    }
   ],
   "source": [
    "# parse_quality_string(label2qual[\"HWI-ST397:389:C42DEACXX:8:1101:1161:8228\"])\n",
    "all_scores=[]\n",
    "for i in label2qual:\n",
    "    all_scores.append(sum(parse_quality_string(label2qual[i]))/len(label2qual[i]))\n",
    "all_scores"
   ]
  },
  {
   "cell_type": "code",
   "execution_count": 328,
   "id": "b42f180a",
   "metadata": {},
   "outputs": [
    {
     "data": {
      "text/plain": [
       "<AxesSubplot:ylabel='Density'>"
      ]
     },
     "execution_count": 328,
     "metadata": {},
     "output_type": "execute_result"
    },
    {
     "data": {
      "image/png": "[encoded data removed]",
      "text/plain": [
       "<Figure size 640x480 with 1 Axes>"
      ]
     },
     "metadata": {},
     "output_type": "display_data"
    }
   ],
   "source": [
    "import seaborn\n",
    "seaborn.kdeplot(all_scores,color=\"blue\")"
   ]
  },
  {
   "cell_type": "markdown",
   "id": "2229ccab",
   "metadata": {},
   "source": [
    "<h3 style=\"background-color: #daebff; border-color: #bad5f6; border-left: 5px solid #bad5f6; padding: 1.5em; color: #6f89a9\">\n",
    "Problem 4 FastQC Analysis \n",
    "</h3>"
   ]
  },
  {
   "cell_type": "markdown",
   "id": "c1e586ad",
   "metadata": {},
   "source": [
    "```bash\n",
    "cd /home/lz568/HW2\n",
    "ln -s /home/DATA/HW2/DNA_Seq.fastq DNA_Seq.fastq\n",
    "ls\n",
    "fastqc DNA_Seq.fastq\n",
    "```"
   ]
  },
  {
   "cell_type": "markdown",
   "id": "6a9ebe1e",
   "metadata": {},
   "source": [
    "### What are the total reads, sequence length and GC content percentage?"
   ]
  },
  {
   "cell_type": "markdown",
   "id": "d830863c",
   "metadata": {},
   "source": [
    "| | |\n",
    "|-----|------|\n",
    "|Total read | 45018569|\n",
    "|Sequence length | 150|\n",
    "|GC content percentage | 53"
   ]
  },
  {
   "cell_type": "markdown",
   "id": "26cd9857",
   "metadata": {},
   "source": [
    "### Describe the following plots in a few sentences:\n",
    "* Per base sequence quality\n",
    "    - Most position in reads are in the orange and red region of the quality score. Position 100-124 have worst quality, which takes up about 1/3 of the entire read. For the green region, there is a flat lines indicating the relatively good quality. Whereas in the red and orange region, the lines undulates with a valley at the red region. There is also a gradual decrease in quality scores at the end. \n",
    "\n",
    "* Per base sequence content\n",
    "    - The %T(red),%C(blue), and %A(green) lines undulates but overall have a downward trend, where A reads has the most percentage, T reads has the second most, and C reads has the lowest. However, %G(grey) lines continue to go up and ends up at about 85%\n",
    "    \n",
    "* Per sequence GC content\n",
    "    - The theoretical curve suggest a normal-like distrution with the mean of 46%. Whereas the actual GC count per read curve has normal-like distribution with an almost identical mean but less standard deviation comparing to the theoretical one."
   ]
  },
  {
   "cell_type": "markdown",
   "id": "2a597627",
   "metadata": {},
   "source": [
    "### By checking the results, do you find any issue? What might cause such issue? Is there any solution to fix such issue instead of resequencing the sample?"
   ]
  },
  {
   "cell_type": "markdown",
   "id": "17f4f53a",
   "metadata": {},
   "source": [
    "There is a continuous rise in % of adapter content in the Adapter Content graph for position after 30. Also, we can find a overrepresented sequence of \"GGGGGGGGGGGGGGGGGGGGGGGGGGGGGGGGGGGGGGGGGGGGGGGGGG\" in Overrepresented sequences chart. Besides There is also a sudden rise (a peak) on the Per seq uence qualityscores plot. I did some research on the Internet, this might indicate problems or issues with the sequencing run caused by reason including poor base-calling, adapter contamination, or localized issues during sequencing, such as signal decay or problems with fluorophores or chemistry in Illumina sequencing. \n",
    "\n",
    "Solutions might be using tools like Cutadapt to do adapter trimming, or using Trimmomatic to do quality trimming to remove bad bases, if exist."
   ]
  }
 ],
 "metadata": {
  "kernelspec": {
   "display_name": "Python 3 (ipykernel)",
   "language": "python",
   "name": "python3"
  },
  "language_info": {
   "codemirror_mode": {
    "name": "ipython",
    "version": 3
   },
   "file_extension": ".py",
   "mimetype": "text/x-python",
   "name": "python",
   "nbconvert_exporter": "python",
   "pygments_lexer": "ipython3",
   "version": "3.9.13"
  }
 },
 "nbformat": 4,
 "nbformat_minor": 5
}
